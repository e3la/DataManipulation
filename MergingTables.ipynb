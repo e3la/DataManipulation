{
  "cells": [
    {
      "cell_type": "code",
      "execution_count": 1,
      "id": "2ea67098",
      "metadata": {
        "id": "2ea67098"
      },
      "outputs": [],
      "source": [
        "import pandas as pd"
      ]
    },
    {
      "cell_type": "markdown",
      "id": "2cb2eb77",
      "metadata": {
        "id": "2cb2eb77"
      },
      "source": [
        "Note about the data sets.  Context is contained within the README page which is in this same folder as this notebook."
      ]
    },
    {
      "cell_type": "markdown",
      "id": "61e60715",
      "metadata": {
        "id": "61e60715"
      },
      "source": [
        "# *Data Manipulation Notebook 2:*  Appending, Concatinating, Merging, and Joining Tables"
      ]
    },
    {
      "cell_type": "code",
      "execution_count": 2,
      "id": "91da9073",
      "metadata": {
        "id": "91da9073"
      },
      "outputs": [],
      "source": [
        "flowers = pd.DataFrame({\n",
        "    \"Name\" : [\"Iris\", \"Peony\", \"Daisy\", \"Petunia\", \"Impatiens\", \"Creeping Myrtle\"],\n",
        "    \"Plant_Type\" : [\"Perennial\", \"Perennial\",\"Annual\", \"Annual\", \"Annual\", \"Perennial\"],\n",
        "    \"Sun_Shade\": [\"Full Sun\", \"Full Sun\", \"Partial Sun\", \"Partial Sun\", \"Partial Shade\", \"Full Shade\" ]\n",
        "\n",
        "})\n",
        "\n",
        "garden_supply = pd.DataFrame({\n",
        "    \"Flower\" : [\"Daylily\",\"Iris\", \"Peony\",\"Petunia\", \"Petunia\", \"Impatiens\", \"Coneflower\"],\n",
        "    \"Sold_As\" : [\"Container\", \"Bulb Pack\", \"Root Pack\",\"Container Pack\", \"Mixed Container\", \"Container Pack\", \"Container\"],\n",
        "    \"Amt_Package\" : [1, 25, 5, 4, 1, 4, 1]\n",
        "})\n",
        "\n",
        "shrubs = pd.DataFrame({\n",
        "    \"Name\" : [\"Boxwood\", \"Hydrangea\", \"Dipladenia\", \"Gardenia\"],\n",
        "    \"Plant_Type\" : [\"Evergreen\", \"Flowering\", \"Flowering\", \"Flowering\"],\n",
        "    \"Sun_Shade\": [\"Partial Sun\", \"Partial Sun\", \"Partial Shade\", \"Full Sun\" ]\n",
        "})"
      ]
    },
    {
      "cell_type": "code",
      "execution_count": 3,
      "id": "265c75dd",
      "metadata": {
        "id": "265c75dd",
        "outputId": "09954d58-d1c1-4ba5-d50e-c546ab308263",
        "colab": {
          "base_uri": "https://localhost:8080/"
        }
      },
      "outputs": [
        {
          "output_type": "execute_result",
          "data": {
            "text/plain": [
              "<bound method NDFrame.describe of               Name Plant_Type      Sun_Shade\n",
              "0             Iris  Perennial       Full Sun\n",
              "1            Peony  Perennial       Full Sun\n",
              "2            Daisy     Annual    Partial Sun\n",
              "3          Petunia     Annual    Partial Sun\n",
              "4        Impatiens     Annual  Partial Shade\n",
              "5  Creeping Myrtle  Perennial     Full Shade>"
            ]
          },
          "metadata": {},
          "execution_count": 3
        }
      ],
      "source": [
        "#1. Examine the flowers table here:\n",
        "\n",
        "flowers.describe"
      ]
    },
    {
      "cell_type": "code",
      "execution_count": 4,
      "id": "8fa98431",
      "metadata": {
        "id": "8fa98431",
        "outputId": "58a9d30d-8567-48a5-f880-a9ea1d511021",
        "colab": {
          "base_uri": "https://localhost:8080/"
        }
      },
      "outputs": [
        {
          "output_type": "execute_result",
          "data": {
            "text/plain": [
              "<bound method NDFrame.describe of        Flower          Sold_As  Amt_Package\n",
              "0     Daylily        Container            1\n",
              "1        Iris        Bulb Pack           25\n",
              "2       Peony        Root Pack            5\n",
              "3     Petunia   Container Pack            4\n",
              "4     Petunia  Mixed Container            1\n",
              "5   Impatiens   Container Pack            4\n",
              "6  Coneflower        Container            1>"
            ]
          },
          "metadata": {},
          "execution_count": 4
        }
      ],
      "source": [
        "# 2. Examine the garden_supply table here:\n",
        "\n",
        "garden_supply.describe\n"
      ]
    },
    {
      "cell_type": "code",
      "execution_count": 5,
      "id": "c8e82436",
      "metadata": {
        "id": "c8e82436",
        "outputId": "60e746d3-395b-4f7f-badd-1f1e8090f618",
        "colab": {
          "base_uri": "https://localhost:8080/"
        }
      },
      "outputs": [
        {
          "output_type": "execute_result",
          "data": {
            "text/plain": [
              "<bound method NDFrame.describe of          Name Plant_Type      Sun_Shade\n",
              "0     Boxwood  Evergreen    Partial Sun\n",
              "1   Hydrangea  Flowering    Partial Sun\n",
              "2  Dipladenia  Flowering  Partial Shade\n",
              "3    Gardenia  Flowering       Full Sun>"
            ]
          },
          "metadata": {},
          "execution_count": 5
        }
      ],
      "source": [
        "# 3. Examine the shrubs table here:\n",
        "\n",
        "shrubs.describe"
      ]
    },
    {
      "cell_type": "markdown",
      "id": "03c6e4ad",
      "metadata": {
        "id": "03c6e4ad"
      },
      "source": [
        "<span style=\"background-color:dodgerblue; color:dodgerblue;\">- - - - - - - - - - - - - - - - - - - - - - - - - - - - - - - - - - - - - - - - - - - - - - - - - - - - - - - - - - - - - - - - - - - - - - - - - - - - - - - - - - - - - - - - -</span>"
      ]
    },
    {
      "cell_type": "markdown",
      "id": "e20a8607",
      "metadata": {
        "id": "e20a8607"
      },
      "source": [
        "# Part 1: Append\n",
        "\n",
        "Reading:\n",
        "1. [Python – Pandas dataframe.append()](https://www.geeksforgeeks.org/python-pandas-dataframe-append/)"
      ]
    },
    {
      "cell_type": "markdown",
      "id": "2cade0d6",
      "metadata": {
        "id": "2cade0d6"
      },
      "source": [
        "**Append** is a method that allows you to add additional rows to a dataset.\n",
        "\n",
        "Below you will find a new dataset, *shrubs*.\n",
        "\n",
        "As we manipulate the table, be sure that you are creating variables to store you new tables. This keeps the original tables intact."
      ]
    },
    {
      "cell_type": "code",
      "execution_count": 12,
      "id": "d3ec2af0",
      "metadata": {
        "id": "d3ec2af0",
        "outputId": "98c227f1-cb1c-48cb-f8d6-959ef2872057",
        "colab": {
          "base_uri": "https://localhost:8080/"
        }
      },
      "outputs": [
        {
          "output_type": "stream",
          "name": "stderr",
          "text": [
            "<ipython-input-12-9c1cad7ae2da>:3: FutureWarning: The frame.append method is deprecated and will be removed from pandas in a future version. Use pandas.concat instead.\n",
            "  flowers_shrubs = flowers.append(shrubs)\n"
          ]
        }
      ],
      "source": [
        "# Append shrubs to the flowers table here.  Be sure to create a new variable for your new table.\n",
        "\n",
        "flowers_shrubs = flowers.append(shrubs)\n",
        "#concat probably needs something else"
      ]
    },
    {
      "cell_type": "code",
      "execution_count": 13,
      "id": "899b1b3c",
      "metadata": {
        "id": "899b1b3c",
        "outputId": "9c5b30db-1c19-47d1-d9ad-22dded28e69a",
        "colab": {
          "base_uri": "https://localhost:8080/"
        }
      },
      "outputs": [
        {
          "output_type": "stream",
          "name": "stderr",
          "text": [
            "<ipython-input-13-91fb9c5e0fff>:3: FutureWarning: The frame.append method is deprecated and will be removed from pandas in a future version. Use pandas.concat instead.\n",
            "  shrubs_flowers = shrubs.append(flowers)\n"
          ]
        }
      ],
      "source": [
        "# Append shrubs to the flowers table here.  This time ignore the index.\n",
        "\n",
        "shrubs_flowers = shrubs.append(flowers)"
      ]
    },
    {
      "cell_type": "markdown",
      "id": "fd457c92",
      "metadata": {
        "id": "fd457c92"
      },
      "source": [
        "<span style=\"background-color:dodgerblue; color:dodgerblue;\">- - - - - - - - - - - - - - - - - - - - - - - - - - - - - - - - - - - - - - - - - - - - - - - - - - - - - - - - - - - - - - - - - - - - - - - - - - - - - - - - - - - - - - - - -</span>"
      ]
    },
    {
      "cell_type": "markdown",
      "id": "869b81e3",
      "metadata": {
        "id": "869b81e3"
      },
      "source": [
        "# Part 2: Concatenation\n",
        "\n",
        "Reading:\n",
        "1. [pandas.concat() function in Python](https://www.geeksforgeeks.org/pandas-concat-function-in-python/)"
      ]
    },
    {
      "cell_type": "markdown",
      "id": "c0b19be7",
      "metadata": {
        "id": "c0b19be7"
      },
      "source": [
        "**Concatenation** means to chain or link things together.  The **concat()** method is very similar to **append()**.\n",
        "Like with **append()**, **concat()** can add rows to a table, or add to the 0 axis.  However, **concat()** can also add horizontally on the 1 axis, and by assigning **keys**.\n",
        "\n",
        "To **concat()** more rows to a table, the syntax is similar to **append()**:   \n",
        "Syntax:  **table_1_name.concat(table_2_name)**\n",
        "\n"
      ]
    },
    {
      "cell_type": "code",
      "execution_count": 18,
      "id": "98ca31ae",
      "metadata": {
        "id": "98ca31ae",
        "outputId": "c2d82eb4-567f-4eb9-e6db-61e6680987b2",
        "colab": {
          "base_uri": "https://localhost:8080/"
        }
      },
      "outputs": [
        {
          "output_type": "stream",
          "name": "stdout",
          "text": [
            "                      Name Plant_Type      Sun_Shade\n",
            "Flowers 0             Iris  Perennial       Full Sun\n",
            "        1            Peony  Perennial       Full Sun\n",
            "        2            Daisy     Annual    Partial Sun\n",
            "        3          Petunia     Annual    Partial Sun\n",
            "        4        Impatiens     Annual  Partial Shade\n",
            "        5  Creeping Myrtle  Perennial     Full Shade\n",
            "Shrubs  0          Boxwood  Evergreen    Partial Sun\n",
            "        1        Hydrangea  Flowering    Partial Sun\n",
            "        2       Dipladenia  Flowering  Partial Shade\n",
            "        3         Gardenia  Flowering       Full Sun\n"
          ]
        }
      ],
      "source": [
        "# Concatenate with flowers\n",
        "\n",
        "# Look at the code below, in your own words what are the\"keys\" and how do they work?\n",
        "\n",
        "flowers_shrubs = pd.concat([flowers, shrubs], keys=[\"Flowers\", \"Shrubs\"])\n",
        "print(flowers_shrubs)\n"
      ]
    },
    {
      "cell_type": "code",
      "execution_count": 17,
      "id": "71c5fe1d",
      "metadata": {
        "id": "71c5fe1d",
        "outputId": "1f40aedb-cbb7-42b2-fcc7-09efe7b659ba",
        "colab": {
          "base_uri": "https://localhost:8080/"
        }
      },
      "outputs": [
        {
          "output_type": "stream",
          "name": "stdout",
          "text": [
            "              Name Plant_Type      Sun_Shade        Name Plant_Type  \\\n",
            "0             Iris  Perennial       Full Sun     Boxwood  Evergreen   \n",
            "1            Peony  Perennial       Full Sun   Hydrangea  Flowering   \n",
            "2            Daisy     Annual    Partial Sun  Dipladenia  Flowering   \n",
            "3          Petunia     Annual    Partial Sun    Gardenia  Flowering   \n",
            "4        Impatiens     Annual  Partial Shade         NaN        NaN   \n",
            "5  Creeping Myrtle  Perennial     Full Shade         NaN        NaN   \n",
            "\n",
            "       Sun_Shade  \n",
            "0    Partial Sun  \n",
            "1    Partial Sun  \n",
            "2  Partial Shade  \n",
            "3       Full Sun  \n",
            "4            NaN  \n",
            "5            NaN  \n"
          ]
        }
      ],
      "source": [
        "# Concatenate flowers and shrubs horizontally here:\n",
        "\n",
        "horizontal_flowers_shrubs = pd.concat([flowers, shrubs], axis=1)\n",
        "\n",
        "print(horizontal_flowers_shrubs)"
      ]
    },
    {
      "cell_type": "markdown",
      "id": "5646ff5f",
      "metadata": {
        "id": "5646ff5f"
      },
      "source": [
        "<span style=\"background-color:dodgerblue; color:dodgerblue;\">- - - - - - - - - - - - - - - - - - - - - - - - - - - - - - - - - - - - - - - - - - - - - - - - - - - - - - - - - - - - - - - - - - - - - - - - - - - - - - - - - - - - - - - - -</span>"
      ]
    },
    {
      "cell_type": "markdown",
      "id": "a67ac6ea",
      "metadata": {
        "id": "a67ac6ea"
      },
      "source": [
        "# Part 3:  Merge\n",
        "\n",
        "Reading for Parts 3 and 4\n",
        "1. [Pandas Merge (Join Data) | pd.DataFrame.merge()](https://www.youtube.com/watch?v=xcN3s3Kij_8)\n",
        "    1. 5 minute YouTube video\n",
        "1. [Why and How to Use Merge with Pandas in Python](https://towardsdatascience.com/why-and-how-to-use-merge-with-pandas-in-python-548600f7e738)"
      ]
    },
    {
      "cell_type": "code",
      "execution_count": 20,
      "id": "0b0f427f",
      "metadata": {
        "id": "0b0f427f",
        "outputId": "c26b578e-3093-4458-efb1-d27ffcb915b0",
        "colab": {
          "base_uri": "https://localhost:8080/"
        }
      },
      "outputs": [
        {
          "output_type": "stream",
          "name": "stdout",
          "text": [
            "This isn't working because there is no commonj column to merge on\n"
          ]
        }
      ],
      "source": [
        "# Run this code: (uncomment)\n",
        "#flowers.merge(garden_supply)\n",
        "\n",
        "#Why isn't this working?\n",
        "\n",
        "print(\"This isn't working because there is no commonj column to merge on\")"
      ]
    },
    {
      "cell_type": "markdown",
      "id": "ab35b607",
      "metadata": {
        "id": "ab35b607"
      },
      "source": [
        "In order to merge a table, you to identify a shared column between the tables.  This is often referred to as a **\"key\"**.\n",
        "\n",
        "Our tables both have a column of flower names.  However, the names of the columns are not the same.\n",
        "There are two options we can take in order to use the names of the flower as the key.\n",
        "\n",
        "Option 1 is to **rename** one of the columns.  \n",
        "\n",
        "Option 2 is to inform the **merge** method which columns to use as the key.\n",
        "\n",
        "We are going to try both."
      ]
    },
    {
      "cell_type": "markdown",
      "id": "396593ce",
      "metadata": {
        "id": "396593ce"
      },
      "source": [
        "### Option 1:  Rename a column in the flowers table.\n",
        "\n",
        "Create a variable to hold your updated table.  \n",
        "apply the following syntax to update your column names: **table_name.rename(columns={\"original_name\": \"new_name\"})**"
      ]
    },
    {
      "cell_type": "code",
      "execution_count": null,
      "id": "f275d8c6",
      "metadata": {
        "id": "f275d8c6"
      },
      "outputs": [],
      "source": [
        "# Code Option 1 here.  Be sure to run your table before moving on to option 2.\n",
        "\n"
      ]
    },
    {
      "cell_type": "markdown",
      "id": "240fd2d4",
      "metadata": {
        "id": "240fd2d4"
      },
      "source": [
        "#### Option 1 Testing:\n",
        "Merge garden_supply with you updated table in a new variable.\n",
        "Run your newly merged table and examine it."
      ]
    },
    {
      "cell_type": "code",
      "execution_count": null,
      "id": "9d5ddf17",
      "metadata": {
        "id": "9d5ddf17"
      },
      "outputs": [],
      "source": [
        "# Test Option 1 here:\n"
      ]
    },
    {
      "cell_type": "markdown",
      "id": "7c9200d0",
      "metadata": {
        "id": "7c9200d0"
      },
      "source": [
        "### Option 2: Using the merge method's parameters \"left_on\" & \"right_on\"\n",
        "\n",
        "Option 2 can be used when if you would rather not rename any columns.\n",
        "Using the syntax below as a guide, create a table where you merge the *flowers* table on the \"Name\" column and the *garden_supply* on the \"Flower\".  Set your tables up where *flowers* is on the left and *garden_supply* on the right\n",
        "    \n",
        "Syntax:  **left_table.merge(right_table, left_on=\"column_name\", right_on=\"column_name\")**"
      ]
    },
    {
      "cell_type": "code",
      "execution_count": null,
      "id": "c13290b3",
      "metadata": {
        "id": "c13290b3"
      },
      "outputs": [],
      "source": [
        "# Code Option 2 here:\n"
      ]
    },
    {
      "cell_type": "markdown",
      "id": "7badc6e0",
      "metadata": {
        "id": "7badc6e0"
      },
      "source": [
        "### Sytnax Exploring:\n",
        "Using the syntax in Option 2, perform the same merge, but this time *garden_supply* on the left and *flowers* on the right.  What do you notice?"
      ]
    },
    {
      "cell_type": "code",
      "execution_count": null,
      "id": "0e3dc0da",
      "metadata": {
        "id": "0e3dc0da"
      },
      "outputs": [],
      "source": [
        "#  Code your Syntax Exploration here:\n"
      ]
    },
    {
      "cell_type": "markdown",
      "id": "d653bc84",
      "metadata": {
        "id": "d653bc84"
      },
      "source": [
        "<span style=\"background-color:dodgerblue; color:dodgerblue;\">- - - - - - - - - - - - - - - - - - - - - - - - - - - - - - - - - - - - - - - - - - - - - - - - - - - - - - - - - - - - - - - - - - - - - - - - - - - - - - - - - - - - - - - - -</span>"
      ]
    },
    {
      "cell_type": "markdown",
      "id": "518b0605",
      "metadata": {
        "id": "518b0605"
      },
      "source": [
        "# Part 4:  Types of Merges\n",
        "\n",
        "Merging is another way of providing you with ways to explore and understand your data.  Merging The entire table is great if the table is small, like our current example.  But think back to the data sets you have worked with so far.  Some have over a dozen columns.  \n",
        "\n",
        "Merging works by creating a new table from related items.  There are 4 main types of merges that we are going to begin exploring: *inner, left, right, outer.*\n",
        "\n",
        "The syntax for merge(): **DataFrame.merge(right, how='inner', on=None, left_on=None, right_on=None, left_index=False, right_index=False, sort=False, suffixes=('_x', '_y'), copy=True, indicator=False, validate=None)** [source](https://pandas.pydata.org/pandas-docs/stable/reference/api/pandas.DataFrame.merge.html)\n",
        "\n",
        "As we explore the types of merges, we are going to focus on the following parameters: **how**, **left_on**, **right_on**.  \n",
        "\n",
        "Pandas documentation for **how**:\n",
        "> **how : {‘left’, ‘right’, ‘outer’, ‘inner’, ‘cross’}, default ‘inner’**\n",
        ">> Type of merge to be performed.\n",
        ">> - **left**: use only keys from left frame, similar to a SQL left outer join; preserve key order.\n",
        ">> - **right**: use only keys from right frame, similar to a SQL right outer join; preserve key order.\n",
        ">> - **outer**: use union of keys from both frames, similar to a SQL full outer join; sort keys lexicographically.\n",
        ">> - **inner**: use intersection of keys from both frames, similar to a SQL inner join; preserve the order of the left keys.\n",
        "\n",
        "[source](https://pandas.pydata.org/pandas-docs/stable/reference/api/pandas.DataFrame.merge.html)\n",
        "\n",
        "*Note*: SQL is a language designed for working with databases.  You will learn more about SQL and how to use it in later lessons.  \n",
        "\n",
        "Pandas documentation for **left_on** and **right_on**:\n",
        ">**left_on**: label or list, or array-like\n",
        ">>Column or index level names to join on in the left DataFrame. Can also be an array or list of arrays of the length of the left DataFrame. These arrays are treated as if they are columns.\n",
        "\n",
        ">**right_on**: label or list, or array-like\n",
        ">>Column or index level names to join on in the right DataFrame. Can also be an array or list of arrays of the length of the right DataFrame. These arrays are treated as if they are columns.\n",
        "\n",
        "[source](https://pandas.pydata.org/pandas-docs/stable/reference/api/pandas.DataFrame.merge.html)\n",
        "\n",
        "*Note*:  We will add the following parameter, **indicator**, to help us visualize how the tables are being merged together.  You will see a new column added because of this parameter, **_merge**.  "
      ]
    },
    {
      "cell_type": "markdown",
      "id": "bb99662c",
      "metadata": {
        "id": "bb99662c"
      },
      "source": [
        "### Before you begin merging  \n",
        "You can decide which way you want them the to merge **on**.  You can decide to use the table where you renamed your columns, or you can keep your tables are they are and use the **left_on** and **right_on** parameters.  If you are not sure, try both options and see which you like best."
      ]
    },
    {
      "cell_type": "markdown",
      "id": "d3caac1e",
      "metadata": {
        "id": "d3caac1e"
      },
      "source": [
        "## 4a: Inner Merge"
      ]
    },
    {
      "cell_type": "code",
      "execution_count": null,
      "id": "3f868d9a",
      "metadata": {
        "id": "3f868d9a",
        "outputId": "c54cba07-72bb-4796-e044-f15cb583df00"
      },
      "outputs": [
        {
          "data": {
            "text/html": [
              "<div>\n",
              "<style scoped>\n",
              "    .dataframe tbody tr th:only-of-type {\n",
              "        vertical-align: middle;\n",
              "    }\n",
              "\n",
              "    .dataframe tbody tr th {\n",
              "        vertical-align: top;\n",
              "    }\n",
              "\n",
              "    .dataframe thead th {\n",
              "        text-align: right;\n",
              "    }\n",
              "</style>\n",
              "<table border=\"1\" class=\"dataframe\">\n",
              "  <thead>\n",
              "    <tr style=\"text-align: right;\">\n",
              "      <th></th>\n",
              "      <th>Name</th>\n",
              "      <th>Plant_Type</th>\n",
              "      <th>Sun_Shade</th>\n",
              "      <th>Flower</th>\n",
              "      <th>Sold_As</th>\n",
              "      <th>Amt_Package</th>\n",
              "      <th>_merge</th>\n",
              "    </tr>\n",
              "  </thead>\n",
              "  <tbody>\n",
              "    <tr>\n",
              "      <th>0</th>\n",
              "      <td>Iris</td>\n",
              "      <td>Perennial</td>\n",
              "      <td>Full Sun</td>\n",
              "      <td>Iris</td>\n",
              "      <td>Bulb Pack</td>\n",
              "      <td>25</td>\n",
              "      <td>both</td>\n",
              "    </tr>\n",
              "    <tr>\n",
              "      <th>1</th>\n",
              "      <td>Peony</td>\n",
              "      <td>Perennial</td>\n",
              "      <td>Full Sun</td>\n",
              "      <td>Peony</td>\n",
              "      <td>Root Pack</td>\n",
              "      <td>5</td>\n",
              "      <td>both</td>\n",
              "    </tr>\n",
              "    <tr>\n",
              "      <th>2</th>\n",
              "      <td>Petunia</td>\n",
              "      <td>Annual</td>\n",
              "      <td>Partial Sun</td>\n",
              "      <td>Petunia</td>\n",
              "      <td>Container Pack</td>\n",
              "      <td>4</td>\n",
              "      <td>both</td>\n",
              "    </tr>\n",
              "    <tr>\n",
              "      <th>3</th>\n",
              "      <td>Petunia</td>\n",
              "      <td>Annual</td>\n",
              "      <td>Partial Sun</td>\n",
              "      <td>Petunia</td>\n",
              "      <td>Mixed Container</td>\n",
              "      <td>1</td>\n",
              "      <td>both</td>\n",
              "    </tr>\n",
              "    <tr>\n",
              "      <th>4</th>\n",
              "      <td>Impatiens</td>\n",
              "      <td>Annual</td>\n",
              "      <td>Partial Shade</td>\n",
              "      <td>Impatiens</td>\n",
              "      <td>Container Pack</td>\n",
              "      <td>4</td>\n",
              "      <td>both</td>\n",
              "    </tr>\n",
              "  </tbody>\n",
              "</table>\n",
              "</div>"
            ],
            "text/plain": [
              "        Name Plant_Type      Sun_Shade     Flower          Sold_As  \\\n",
              "0       Iris  Perennial       Full Sun       Iris        Bulb Pack   \n",
              "1      Peony  Perennial       Full Sun      Peony        Root Pack   \n",
              "2    Petunia     Annual    Partial Sun    Petunia   Container Pack   \n",
              "3    Petunia     Annual    Partial Sun    Petunia  Mixed Container   \n",
              "4  Impatiens     Annual  Partial Shade  Impatiens   Container Pack   \n",
              "\n",
              "   Amt_Package _merge  \n",
              "0           25   both  \n",
              "1            5   both  \n",
              "2            4   both  \n",
              "3            1   both  \n",
              "4            4   both  "
            ]
          },
          "execution_count": 15,
          "metadata": {},
          "output_type": "execute_result"
        }
      ],
      "source": [
        "inner = pd.merge(flowers, garden_supply, how=\"inner\", left_on=\"Name\", right_on=\"Flower\", indicator=True)\n",
        "inner"
      ]
    },
    {
      "cell_type": "code",
      "execution_count": null,
      "id": "1033af35",
      "metadata": {
        "id": "1033af35"
      },
      "outputs": [],
      "source": [
        "# Explain this table.  Why these values, when"
      ]
    },
    {
      "cell_type": "markdown",
      "id": "80a2e0cb",
      "metadata": {
        "id": "80a2e0cb"
      },
      "source": [
        "## 4b: Left Merge"
      ]
    },
    {
      "cell_type": "code",
      "execution_count": null,
      "id": "e6eabfbc",
      "metadata": {
        "id": "e6eabfbc"
      },
      "outputs": [],
      "source": [
        "# Create a left merge table:\n",
        "\n"
      ]
    },
    {
      "cell_type": "markdown",
      "id": "fd4dc955",
      "metadata": {
        "id": "fd4dc955"
      },
      "source": [
        "## 4c: Right Merge"
      ]
    },
    {
      "cell_type": "code",
      "execution_count": null,
      "id": "48eac82a",
      "metadata": {
        "id": "48eac82a",
        "outputId": "d0b4ae07-e741-4262-e368-a17ca96e8c5b"
      },
      "outputs": [
        {
          "data": {
            "text/html": [
              "<div>\n",
              "<style scoped>\n",
              "    .dataframe tbody tr th:only-of-type {\n",
              "        vertical-align: middle;\n",
              "    }\n",
              "\n",
              "    .dataframe tbody tr th {\n",
              "        vertical-align: top;\n",
              "    }\n",
              "\n",
              "    .dataframe thead th {\n",
              "        text-align: right;\n",
              "    }\n",
              "</style>\n",
              "<table border=\"1\" class=\"dataframe\">\n",
              "  <thead>\n",
              "    <tr style=\"text-align: right;\">\n",
              "      <th></th>\n",
              "      <th>Name</th>\n",
              "      <th>Plant_Type</th>\n",
              "      <th>Sun_Shade</th>\n",
              "      <th>Flower</th>\n",
              "      <th>Sold_As</th>\n",
              "      <th>Amt_Package</th>\n",
              "      <th>_merge</th>\n",
              "    </tr>\n",
              "  </thead>\n",
              "  <tbody>\n",
              "    <tr>\n",
              "      <th>0</th>\n",
              "      <td>NaN</td>\n",
              "      <td>NaN</td>\n",
              "      <td>NaN</td>\n",
              "      <td>Daylily</td>\n",
              "      <td>Container</td>\n",
              "      <td>1</td>\n",
              "      <td>right_only</td>\n",
              "    </tr>\n",
              "    <tr>\n",
              "      <th>1</th>\n",
              "      <td>Iris</td>\n",
              "      <td>Perennial</td>\n",
              "      <td>Full Sun</td>\n",
              "      <td>Iris</td>\n",
              "      <td>Bulb Pack</td>\n",
              "      <td>25</td>\n",
              "      <td>both</td>\n",
              "    </tr>\n",
              "    <tr>\n",
              "      <th>2</th>\n",
              "      <td>Peony</td>\n",
              "      <td>Perennial</td>\n",
              "      <td>Full Sun</td>\n",
              "      <td>Peony</td>\n",
              "      <td>Root Pack</td>\n",
              "      <td>5</td>\n",
              "      <td>both</td>\n",
              "    </tr>\n",
              "    <tr>\n",
              "      <th>3</th>\n",
              "      <td>Petunia</td>\n",
              "      <td>Annual</td>\n",
              "      <td>Partial Sun</td>\n",
              "      <td>Petunia</td>\n",
              "      <td>Container Pack</td>\n",
              "      <td>4</td>\n",
              "      <td>both</td>\n",
              "    </tr>\n",
              "    <tr>\n",
              "      <th>4</th>\n",
              "      <td>Petunia</td>\n",
              "      <td>Annual</td>\n",
              "      <td>Partial Sun</td>\n",
              "      <td>Petunia</td>\n",
              "      <td>Mixed Container</td>\n",
              "      <td>1</td>\n",
              "      <td>both</td>\n",
              "    </tr>\n",
              "    <tr>\n",
              "      <th>5</th>\n",
              "      <td>Impatiens</td>\n",
              "      <td>Annual</td>\n",
              "      <td>Partial Shade</td>\n",
              "      <td>Impatiens</td>\n",
              "      <td>Container Pack</td>\n",
              "      <td>4</td>\n",
              "      <td>both</td>\n",
              "    </tr>\n",
              "    <tr>\n",
              "      <th>6</th>\n",
              "      <td>NaN</td>\n",
              "      <td>NaN</td>\n",
              "      <td>NaN</td>\n",
              "      <td>Coneflower</td>\n",
              "      <td>Container</td>\n",
              "      <td>1</td>\n",
              "      <td>right_only</td>\n",
              "    </tr>\n",
              "  </tbody>\n",
              "</table>\n",
              "</div>"
            ],
            "text/plain": [
              "        Name Plant_Type      Sun_Shade      Flower          Sold_As  \\\n",
              "0        NaN        NaN            NaN     Daylily        Container   \n",
              "1       Iris  Perennial       Full Sun        Iris        Bulb Pack   \n",
              "2      Peony  Perennial       Full Sun       Peony        Root Pack   \n",
              "3    Petunia     Annual    Partial Sun     Petunia   Container Pack   \n",
              "4    Petunia     Annual    Partial Sun     Petunia  Mixed Container   \n",
              "5  Impatiens     Annual  Partial Shade   Impatiens   Container Pack   \n",
              "6        NaN        NaN            NaN  Coneflower        Container   \n",
              "\n",
              "   Amt_Package      _merge  \n",
              "0            1  right_only  \n",
              "1           25        both  \n",
              "2            5        both  \n",
              "3            4        both  \n",
              "4            1        both  \n",
              "5            4        both  \n",
              "6            1  right_only  "
            ]
          },
          "execution_count": 18,
          "metadata": {},
          "output_type": "execute_result"
        }
      ],
      "source": [
        "right = pd.merge(flowers, garden_supply, how=\"right\", left_on=\"Name\", right_on=\"Flower\", indicator=True)\n",
        "right"
      ]
    },
    {
      "cell_type": "code",
      "execution_count": null,
      "id": "18f4c32b",
      "metadata": {
        "id": "18f4c32b"
      },
      "outputs": [],
      "source": [
        "# The syntax for right merge has been provided.\n",
        "# In your own words, explain how it is different from the left merge in 4b:\n",
        "\n"
      ]
    },
    {
      "cell_type": "markdown",
      "id": "62702b32",
      "metadata": {
        "id": "62702b32"
      },
      "source": [
        "## Outer Merge"
      ]
    },
    {
      "cell_type": "code",
      "execution_count": null,
      "id": "23599c22",
      "metadata": {
        "id": "23599c22"
      },
      "outputs": [],
      "source": [
        "# Create an outer merge table here:\n",
        "\n"
      ]
    },
    {
      "cell_type": "markdown",
      "id": "d304c06a",
      "metadata": {
        "id": "d304c06a"
      },
      "source": [
        "## Anti_Merge\n",
        "\n",
        "An **Anti Merge** is a merge based on what is leftout.  This is not an actual table, but you can create one with a little code and logic.  Read through the code below to see one way to create an anti-table."
      ]
    },
    {
      "cell_type": "code",
      "execution_count": null,
      "id": "20502209",
      "metadata": {
        "id": "20502209",
        "outputId": "6a52f90b-393e-462b-bf84-5d4b6e316d17"
      },
      "outputs": [
        {
          "data": {
            "text/html": [
              "<div>\n",
              "<style scoped>\n",
              "    .dataframe tbody tr th:only-of-type {\n",
              "        vertical-align: middle;\n",
              "    }\n",
              "\n",
              "    .dataframe tbody tr th {\n",
              "        vertical-align: top;\n",
              "    }\n",
              "\n",
              "    .dataframe thead th {\n",
              "        text-align: right;\n",
              "    }\n",
              "</style>\n",
              "<table border=\"1\" class=\"dataframe\">\n",
              "  <thead>\n",
              "    <tr style=\"text-align: right;\">\n",
              "      <th></th>\n",
              "      <th>Name</th>\n",
              "      <th>Plant_Type</th>\n",
              "      <th>Sun_Shade</th>\n",
              "      <th>Flower</th>\n",
              "      <th>Sold_As</th>\n",
              "      <th>Amt_Package</th>\n",
              "      <th>_merge</th>\n",
              "    </tr>\n",
              "  </thead>\n",
              "  <tbody>\n",
              "    <tr>\n",
              "      <th>0</th>\n",
              "      <td>Iris</td>\n",
              "      <td>Perennial</td>\n",
              "      <td>Full Sun</td>\n",
              "      <td>Iris</td>\n",
              "      <td>Bulb Pack</td>\n",
              "      <td>25.0</td>\n",
              "      <td>both</td>\n",
              "    </tr>\n",
              "    <tr>\n",
              "      <th>1</th>\n",
              "      <td>Peony</td>\n",
              "      <td>Perennial</td>\n",
              "      <td>Full Sun</td>\n",
              "      <td>Peony</td>\n",
              "      <td>Root Pack</td>\n",
              "      <td>5.0</td>\n",
              "      <td>both</td>\n",
              "    </tr>\n",
              "    <tr>\n",
              "      <th>2</th>\n",
              "      <td>Daisy</td>\n",
              "      <td>Annual</td>\n",
              "      <td>Partial Sun</td>\n",
              "      <td>NaN</td>\n",
              "      <td>NaN</td>\n",
              "      <td>NaN</td>\n",
              "      <td>left_only</td>\n",
              "    </tr>\n",
              "    <tr>\n",
              "      <th>3</th>\n",
              "      <td>Petunia</td>\n",
              "      <td>Annual</td>\n",
              "      <td>Partial Sun</td>\n",
              "      <td>Petunia</td>\n",
              "      <td>Container Pack</td>\n",
              "      <td>4.0</td>\n",
              "      <td>both</td>\n",
              "    </tr>\n",
              "    <tr>\n",
              "      <th>4</th>\n",
              "      <td>Petunia</td>\n",
              "      <td>Annual</td>\n",
              "      <td>Partial Sun</td>\n",
              "      <td>Petunia</td>\n",
              "      <td>Mixed Container</td>\n",
              "      <td>1.0</td>\n",
              "      <td>both</td>\n",
              "    </tr>\n",
              "    <tr>\n",
              "      <th>5</th>\n",
              "      <td>Impatiens</td>\n",
              "      <td>Annual</td>\n",
              "      <td>Partial Shade</td>\n",
              "      <td>Impatiens</td>\n",
              "      <td>Container Pack</td>\n",
              "      <td>4.0</td>\n",
              "      <td>both</td>\n",
              "    </tr>\n",
              "    <tr>\n",
              "      <th>6</th>\n",
              "      <td>Creeping Myrtle</td>\n",
              "      <td>Perennial</td>\n",
              "      <td>Full Shade</td>\n",
              "      <td>NaN</td>\n",
              "      <td>NaN</td>\n",
              "      <td>NaN</td>\n",
              "      <td>left_only</td>\n",
              "    </tr>\n",
              "  </tbody>\n",
              "</table>\n",
              "</div>"
            ],
            "text/plain": [
              "              Name Plant_Type      Sun_Shade     Flower          Sold_As  \\\n",
              "0             Iris  Perennial       Full Sun       Iris        Bulb Pack   \n",
              "1            Peony  Perennial       Full Sun      Peony        Root Pack   \n",
              "2            Daisy     Annual    Partial Sun        NaN              NaN   \n",
              "3          Petunia     Annual    Partial Sun    Petunia   Container Pack   \n",
              "4          Petunia     Annual    Partial Sun    Petunia  Mixed Container   \n",
              "5        Impatiens     Annual  Partial Shade  Impatiens   Container Pack   \n",
              "6  Creeping Myrtle  Perennial     Full Shade        NaN              NaN   \n",
              "\n",
              "   Amt_Package     _merge  \n",
              "0         25.0       both  \n",
              "1          5.0       both  \n",
              "2          NaN  left_only  \n",
              "3          4.0       both  \n",
              "4          1.0       both  \n",
              "5          4.0       both  \n",
              "6          NaN  left_only  "
            ]
          },
          "execution_count": 21,
          "metadata": {},
          "output_type": "execute_result"
        }
      ],
      "source": [
        "left_join = flowers.merge(garden_supply, how=\"left\", left_on=\"Name\", right_on=\"Flower\", indicator=True)\n",
        "left_join"
      ]
    },
    {
      "cell_type": "code",
      "execution_count": null,
      "id": "187fe03d",
      "metadata": {
        "id": "187fe03d",
        "outputId": "e6bbe4ae-2f25-4e93-9599-effc9938f264"
      },
      "outputs": [
        {
          "data": {
            "text/plain": [
              "2              Daisy\n",
              "6    Creeping Myrtle\n",
              "Name: Name, dtype: object"
            ]
          },
          "execution_count": 23,
          "metadata": {},
          "output_type": "execute_result"
        }
      ],
      "source": [
        "left_only = left_join.loc[left_join[\"_merge\"] ==\"left_only\", \"Name\"]\n",
        "left_only"
      ]
    },
    {
      "cell_type": "code",
      "execution_count": null,
      "id": "a71c3a6a",
      "metadata": {
        "id": "a71c3a6a",
        "outputId": "6f2dcd32-69dd-4978-d7bb-9e50a1546c18"
      },
      "outputs": [
        {
          "data": {
            "text/html": [
              "<div>\n",
              "<style scoped>\n",
              "    .dataframe tbody tr th:only-of-type {\n",
              "        vertical-align: middle;\n",
              "    }\n",
              "\n",
              "    .dataframe tbody tr th {\n",
              "        vertical-align: top;\n",
              "    }\n",
              "\n",
              "    .dataframe thead th {\n",
              "        text-align: right;\n",
              "    }\n",
              "</style>\n",
              "<table border=\"1\" class=\"dataframe\">\n",
              "  <thead>\n",
              "    <tr style=\"text-align: right;\">\n",
              "      <th></th>\n",
              "      <th>Name</th>\n",
              "      <th>Plant_Type</th>\n",
              "      <th>Sun_Shade</th>\n",
              "    </tr>\n",
              "  </thead>\n",
              "  <tbody>\n",
              "    <tr>\n",
              "      <th>2</th>\n",
              "      <td>Daisy</td>\n",
              "      <td>Annual</td>\n",
              "      <td>Partial Sun</td>\n",
              "    </tr>\n",
              "    <tr>\n",
              "      <th>5</th>\n",
              "      <td>Creeping Myrtle</td>\n",
              "      <td>Perennial</td>\n",
              "      <td>Full Shade</td>\n",
              "    </tr>\n",
              "  </tbody>\n",
              "</table>\n",
              "</div>"
            ],
            "text/plain": [
              "              Name Plant_Type    Sun_Shade\n",
              "2            Daisy     Annual  Partial Sun\n",
              "5  Creeping Myrtle  Perennial   Full Shade"
            ]
          },
          "execution_count": 24,
          "metadata": {},
          "output_type": "execute_result"
        }
      ],
      "source": [
        "left_only_flowers=flowers[flowers[\"Name\"].isin(left_only)]\n",
        "left_only_flowers"
      ]
    },
    {
      "cell_type": "code",
      "execution_count": null,
      "id": "ec84d2db",
      "metadata": {
        "id": "ec84d2db"
      },
      "outputs": [],
      "source": [
        "# In your own words, how did we create the \"left_only_flowers\" table?\n",
        "# How does the syntax work?\n",
        "\n",
        "\n"
      ]
    },
    {
      "cell_type": "markdown",
      "id": "e4e74e53",
      "metadata": {
        "id": "e4e74e53"
      },
      "source": [
        "<span style=\"background-color:dodgerblue; color:dodgerblue;\">- - - - - - - - - - - - - - - - - - - - - - - - - - - - - - - - - - - - - - - - - - - - - - - - - - - - - - - - - - - - - - - - - - - - - - - - - - - - - - - - - - - - - - - - -</span>"
      ]
    },
    {
      "cell_type": "markdown",
      "id": "c08565e0",
      "metadata": {
        "id": "c08565e0"
      },
      "source": [
        "# Part 5: Join\n",
        "\n",
        "Reading List:\n",
        "1. [Pandas Join vs. Merge](https://towardsdatascience.com/pandas-join-vs-merge-c365fd4fbf49)\n",
        "1. [pandas.DataFrame.join](https://pandas.pydata.org/docs/reference/api/pandas.DataFrame.join.html)"
      ]
    },
    {
      "cell_type": "markdown",
      "id": "14c4a89a",
      "metadata": {
        "id": "14c4a89a"
      },
      "source": [
        "The pandas library also contains a join method.  It has fewer parameters than merge, but can still be useful.\n",
        "\n",
        "The parameter to that we are going to look at in this last section is **how**.\n",
        "\n",
        "From the pandas documentation:\n",
        "\n",
        "> **how : {‘left’, ‘right’, ‘outer’, ‘inner’}, default ‘left’:**\n",
        ">> How to handle the operation of the two objects.\n",
        ">> - **left**: use calling frame’s index (or column if on is specified)\n",
        ">> - **right**: use other’s index.\n",
        ">> - **outer**: form union of calling frame’s index (or column if on is specified) with other’s index, and sort it. lexicographically.\n",
        ">> - **inner**: form intersection of calling frame’s index (or column if on is specified) with other’s index, preserving the order of the calling’s one.\n",
        "\n"
      ]
    },
    {
      "cell_type": "code",
      "execution_count": null,
      "id": "d21a3d0b",
      "metadata": {
        "id": "d21a3d0b"
      },
      "outputs": [],
      "source": [
        "join = flowers.join(garden_supply)\n",
        "join"
      ]
    },
    {
      "cell_type": "code",
      "execution_count": null,
      "id": "a7cfda58",
      "metadata": {
        "id": "a7cfda58"
      },
      "outputs": [],
      "source": [
        "# create a \"join_outer\" table that outer joins garden_supply and flowers:\n",
        "\n",
        "# run you table:\n"
      ]
    },
    {
      "cell_type": "code",
      "execution_count": null,
      "id": "713b4362",
      "metadata": {
        "id": "713b4362"
      },
      "outputs": [],
      "source": [
        "# SOLUTION\n",
        "join_outer = garden_supply.join(flowers, how=\"outer\")\n",
        "join_outer"
      ]
    },
    {
      "cell_type": "code",
      "execution_count": null,
      "id": "46081c3c",
      "metadata": {
        "id": "46081c3c"
      },
      "outputs": [],
      "source": [
        "# Based on what an outer join does, look closely at the table \"join_outer\".\n",
        "# Explain how these table elements are indexed.\n",
        "\n"
      ]
    }
  ],
  "metadata": {
    "kernelspec": {
      "display_name": "Python 3",
      "language": "python",
      "name": "python3"
    },
    "language_info": {
      "codemirror_mode": {
        "name": "ipython",
        "version": 3
      },
      "file_extension": ".py",
      "mimetype": "text/x-python",
      "name": "python",
      "nbconvert_exporter": "python",
      "pygments_lexer": "ipython3",
      "version": "3.8.8"
    },
    "colab": {
      "provenance": []
    }
  },
  "nbformat": 4,
  "nbformat_minor": 5
}